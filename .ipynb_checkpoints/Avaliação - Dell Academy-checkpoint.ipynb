{
 "cells": [
  {
   "cell_type": "markdown",
   "id": "e41ea029",
   "metadata": {},
   "source": [
    "# Avaliação - Dell Academy"
   ]
  },
  {
   "cell_type": "markdown",
   "id": "d0a30036",
   "metadata": {},
   "source": [
    "###  **Nessa Avalição irei ultilizar o dataset: [MDB 50K *Movie Reviews*](https://www.kaggle.com/atulanandjha/imdb-50k-movie-reviews-test-your-bert).**"
   ]
  },
  {
   "cell_type": "code",
   "execution_count": 4,
   "id": "fe785705",
   "metadata": {},
   "outputs": [],
   "source": [
    "#Importação de bibliotecas que iremos ultilizar!\n",
    "import pandas as pd\n",
    "import seaborn as sns\n",
    "import matplotlib.pyplot as plt \n",
    "import warnings\n",
    "from PIL import Image\n",
    "from wordcloud import WordCloud,STOPWORDS, ImageColorGenerator\n",
    "from spacy.lang.en import English\n",
    "import spacy\n",
    "from spacy.lang.en.stop_words import STOP_WORDS\n",
    "\n"
   ]
  },
  {
   "cell_type": "code",
   "execution_count": 5,
   "id": "703c5354",
   "metadata": {},
   "outputs": [],
   "source": [
    "#Usado para tirar as mensagens de erros que aparecem após plotar alguns graficos.\n",
    "warnings.filterwarnings('ignore')\n"
   ]
  },
  {
   "cell_type": "code",
   "execution_count": 6,
   "id": "f29da672",
   "metadata": {},
   "outputs": [],
   "source": [
    "#Lendo os Csv que seram ultilizados nesse analise.\n",
    "moviestr = pd.read_csv(\"train.csv\")\n",
    "moviests =pd.read_csv(\"test.csv\")"
   ]
  },
  {
   "cell_type": "code",
   "execution_count": 7,
   "id": "8b713513",
   "metadata": {},
   "outputs": [],
   "source": [
    "#Unindo os dois Datasets em um só.\n",
    "movies = pd.merge(moviestr, moviests, how = 'outer')"
   ]
  },
  {
   "cell_type": "code",
   "execution_count": 8,
   "id": "0b95189e",
   "metadata": {},
   "outputs": [
    {
     "data": {
      "text/html": [
       "<div>\n",
       "<style scoped>\n",
       "    .dataframe tbody tr th:only-of-type {\n",
       "        vertical-align: middle;\n",
       "    }\n",
       "\n",
       "    .dataframe tbody tr th {\n",
       "        vertical-align: top;\n",
       "    }\n",
       "\n",
       "    .dataframe thead th {\n",
       "        text-align: right;\n",
       "    }\n",
       "</style>\n",
       "<table border=\"1\" class=\"dataframe\">\n",
       "  <thead>\n",
       "    <tr style=\"text-align: right;\">\n",
       "      <th></th>\n",
       "      <th>text</th>\n",
       "      <th>sentiment</th>\n",
       "    </tr>\n",
       "  </thead>\n",
       "  <tbody>\n",
       "    <tr>\n",
       "      <th>0</th>\n",
       "      <td>Now, I won't deny that when I purchased this o...</td>\n",
       "      <td>neg</td>\n",
       "    </tr>\n",
       "    <tr>\n",
       "      <th>1</th>\n",
       "      <td>The saddest thing about this \"tribute\" is that...</td>\n",
       "      <td>neg</td>\n",
       "    </tr>\n",
       "    <tr>\n",
       "      <th>2</th>\n",
       "      <td>Last night I decided to watch the prequel or s...</td>\n",
       "      <td>neg</td>\n",
       "    </tr>\n",
       "    <tr>\n",
       "      <th>3</th>\n",
       "      <td>I have to admit that i liked the first half of...</td>\n",
       "      <td>neg</td>\n",
       "    </tr>\n",
       "    <tr>\n",
       "      <th>4</th>\n",
       "      <td>I was not impressed about this film especially...</td>\n",
       "      <td>neg</td>\n",
       "    </tr>\n",
       "  </tbody>\n",
       "</table>\n",
       "</div>"
      ],
      "text/plain": [
       "                                                text sentiment\n",
       "0  Now, I won't deny that when I purchased this o...       neg\n",
       "1  The saddest thing about this \"tribute\" is that...       neg\n",
       "2  Last night I decided to watch the prequel or s...       neg\n",
       "3  I have to admit that i liked the first half of...       neg\n",
       "4  I was not impressed about this film especially...       neg"
      ]
     },
     "execution_count": 8,
     "metadata": {},
     "output_type": "execute_result"
    }
   ],
   "source": [
    "#Analisando as 5 primeiras linhas do dataset.\n",
    "movies.head()"
   ]
  },
  {
   "cell_type": "code",
   "execution_count": 9,
   "id": "6be4f9e5",
   "metadata": {},
   "outputs": [
    {
     "data": {
      "text/plain": [
       "text         0\n",
       "sentiment    0\n",
       "dtype: int64"
      ]
     },
     "execution_count": 9,
     "metadata": {},
     "output_type": "execute_result"
    }
   ],
   "source": [
    "#Analisando se existe dados faltantes.\n",
    "movies.isnull().sum()"
   ]
  },
  {
   "cell_type": "code",
   "execution_count": 10,
   "id": "d3dc6309",
   "metadata": {},
   "outputs": [
    {
     "data": {
      "text/plain": [
       "pos    24972\n",
       "neg    24905\n",
       "Name: sentiment, dtype: int64"
      ]
     },
     "execution_count": 10,
     "metadata": {},
     "output_type": "execute_result"
    }
   ],
   "source": [
    "#Contando as avaliações possitivas e negativas.\n",
    "values=movies.sentiment.value_counts()\n",
    "values\n",
    "\n"
   ]
  },
  {
   "cell_type": "code",
   "execution_count": 11,
   "id": "b5b02e4a",
   "metadata": {},
   "outputs": [
    {
     "data": {
      "image/png": "[encoded data removed]",
      "text/plain": [
       "<Figure size 432x288 with 1 Axes>"
      ]
     },
     "metadata": {
      "needs_background": "light"
     },
     "output_type": "display_data"
    }
   ],
   "source": [
    "#Plotando a quantidade de reações negativas e positiva.\n",
    "fig, ax = plt.subplots()\n",
    "values.plot(kind=\"bar\",ax=ax, color=[\"#ff7f0e\",\"#1f77b4\"])\n",
    "ax.set_title(\"Quantidade de homens e mulheres\")\n",
    "ax.set_ylabel(\"Quantidade\")\n",
    "plt.xticks(rotation=360)\n",
    "\n",
    "fig.canvas.draw()\n",
    "\n",
    "labels = [item.get_text() for item in ax.get_xticklabels()]\n",
    "labels[1] = 'Possitivos'\n",
    "labels[0] = 'Negativos'\n",
    "\n",
    "ax.set_xticklabels(labels)\n",
    "plt.tight_layout;\n"
   ]
  },
  {
   "cell_type": "code",
   "execution_count": 12,
   "id": "2c72ae70",
   "metadata": {},
   "outputs": [
    {
     "data": {
      "image/png": "[encoded data removed]",
      "text/plain": [
       "<Figure size 432x288 with 1 Axes>"
      ]
     },
     "metadata": {},
     "output_type": "display_data"
    }
   ],
   "source": [
    "plt.pie(values.values, labels = [\"Positivas\", \"negativas\"],autopct='%1.1f%%',radius = 1.5, textprops = {\"fontsize\" : 16})\n",
    "plt.show()"
   ]
  },
  {
   "cell_type": "markdown",
   "id": "b4a511b1",
   "metadata": {},
   "source": [
    "* O que Podemos entender dessas informações acima é que existem ao todo **49.877** reações. \n",
    " * E que existem **24.972** reações **Positivas**, \n",
    " * e **24.905** reações **Negativas**."
   ]
  },
  {
   "cell_type": "code",
   "execution_count": 13,
   "id": "015ab084",
   "metadata": {},
   "outputs": [],
   "source": [
    "#Mudando valores da coluna sentiment, onde neg é igual a 1, e pos é igual a 2.\n",
    "reacoes = {'neg':1, 'pos':2}\n",
    "movies.sentiment.replace(reacoes, inplace=True)"
   ]
  },
  {
   "cell_type": "code",
   "execution_count": 14,
   "id": "a1690816",
   "metadata": {},
   "outputs": [
    {
     "data": {
      "text/html": [
       "<div>\n",
       "<style scoped>\n",
       "    .dataframe tbody tr th:only-of-type {\n",
       "        vertical-align: middle;\n",
       "    }\n",
       "\n",
       "    .dataframe tbody tr th {\n",
       "        vertical-align: top;\n",
       "    }\n",
       "\n",
       "    .dataframe thead th {\n",
       "        text-align: right;\n",
       "    }\n",
       "</style>\n",
       "<table border=\"1\" class=\"dataframe\">\n",
       "  <thead>\n",
       "    <tr style=\"text-align: right;\">\n",
       "      <th></th>\n",
       "      <th>text</th>\n",
       "    </tr>\n",
       "  </thead>\n",
       "  <tbody>\n",
       "    <tr>\n",
       "      <th>0</th>\n",
       "      <td>Now, I won't deny that when I purchased this off eBay, I had high expectations. This was an incredible out-of-print work from the master of comedy that I so enjoy. However, I was soon to be disappointed. Apologies to those who enjoyed it, but I just found the Compleat Al to be very difficult to watch. I got a few smiles, sure, but the majority of the funny came from the music videos (which I've got on DVD) and the rest was basically filler. You could tell that this was not Al's greatest video achievement (that honor goes to UHF). Honestly, I doubt if this will ever make the jump to DVD, so if you're an ultra-hardcore Al fan and just HAVE to own everything, buy the tape off eBay. Just don't pay too much for it.</td>\n",
       "    </tr>\n",
       "    <tr>\n",
       "      <th>1</th>\n",
       "      <td>The saddest thing about this \"tribute\" is that almost all the singers (including the otherwise incredibly talented Nick Cave) seem to have missed the whole point where Cohen's intensity lies: by delivering his lines in an almost tuneless poise, Cohen transmits the full extent of his poetry, his irony, his all-round humanity, laughter and tears in one.&lt;br /&gt;&lt;br /&gt;To see some of these singer upstarts make convoluted suffering faces, launch their pathetic squeals in the patent effort to scream \"I'm a singer!,\" is a true pain. It's the same feeling many of you probably had listening in to some horrendous operatic versions of simple songs such as Lennon's \"Imagine.\" Nothing, simply nothing gets close to the simplicity and directness of the original. If there is a form of art that doesn't need embellishments, it's Cohen's art. Embellishments cast it in the street looking like the tasteless make-up of sex for sale.&lt;br /&gt;&lt;br /&gt;In this Cohen's tribute I found myself suffering and suffering through pitiful tributes and awful reinterpretations, all of them entirely lacking the original irony of the master and, if truth be told, several of these singers sounded as if they had been recruited at some asylum talent show. It's Cohen doing a tribute to them by letting them sing his material, really, not the other way around: they may have been friends, or his daughter's, he could have become very tender-hearted and in the mood for a gift. Too bad it didn't stay in the family.&lt;br /&gt;&lt;br /&gt;Fortunately, but only at the very end, Cohen himself performed his majestic \"Tower of Song,\" but even that flower was spoiled by the totally incongruous background of the U2, all of them carrying the expression that bored kids have when they visit their poor grandpa at the nursing home.&lt;br /&gt;&lt;br /&gt;A sad show, really, and sadder if you truly love Cohen as I do.</td>\n",
       "    </tr>\n",
       "    <tr>\n",
       "      <th>2</th>\n",
       "      <td>Last night I decided to watch the prequel or shall I say the so called prequel to Carlito's Way - \"Carlito's Way: Rise to Power (2005)\" which went straight to DVD...no wonder .....it completely ...and I mean completely S%&amp;KS !!! waist of time watching it and I think it would be a pure waist of time writing about it.... I don't understand how De Palma agreed on producing this sh#t-fest of a movie....except for only one fact that I tip my hat to... Jay Hernandez who plays the young Brigante.... reminded me how De Niro got into the shoes of Brando to portray the young Don Corleone in Godfather II ...but the difference De Niro was amazing and even got an Oscar for it !!! Jay Hernandez well he has guts for trying to be a young Pacino.... too bad for him I don't think he will be playing in film anymore and by the way after I watched this sh#$%ty movie, I sat down and watched the original Carlitos way to get the bad taste out of my mouth.</td>\n",
       "    </tr>\n",
       "  </tbody>\n",
       "</table>\n",
       "</div>"
      ],
      "text/plain": [
       "                                                                                                                                                                                                                                                                                                                                                                                                                                                                                                                                                                                                                                                                                                                                                                                                                                                                                                                                                                                                                                                                                                                                                                                                                                                                                                                                                                                                                                                                                                                                                                                                                                                                                                                                                                                                                                                                                                                                text\n",
       "0                                                                                                                                                                                                                                                                                                                                                                                                                                                                                                                                                                                                                                                                                                                                                                                                                                                                                                                                                                                                                                                                                                                                                                                    Now, I won't deny that when I purchased this off eBay, I had high expectations. This was an incredible out-of-print work from the master of comedy that I so enjoy. However, I was soon to be disappointed. Apologies to those who enjoyed it, but I just found the Compleat Al to be very difficult to watch. I got a few smiles, sure, but the majority of the funny came from the music videos (which I've got on DVD) and the rest was basically filler. You could tell that this was not Al's greatest video achievement (that honor goes to UHF). Honestly, I doubt if this will ever make the jump to DVD, so if you're an ultra-hardcore Al fan and just HAVE to own everything, buy the tape off eBay. Just don't pay too much for it.\n",
       "1  The saddest thing about this \"tribute\" is that almost all the singers (including the otherwise incredibly talented Nick Cave) seem to have missed the whole point where Cohen's intensity lies: by delivering his lines in an almost tuneless poise, Cohen transmits the full extent of his poetry, his irony, his all-round humanity, laughter and tears in one.<br /><br />To see some of these singer upstarts make convoluted suffering faces, launch their pathetic squeals in the patent effort to scream \"I'm a singer!,\" is a true pain. It's the same feeling many of you probably had listening in to some horrendous operatic versions of simple songs such as Lennon's \"Imagine.\" Nothing, simply nothing gets close to the simplicity and directness of the original. If there is a form of art that doesn't need embellishments, it's Cohen's art. Embellishments cast it in the street looking like the tasteless make-up of sex for sale.<br /><br />In this Cohen's tribute I found myself suffering and suffering through pitiful tributes and awful reinterpretations, all of them entirely lacking the original irony of the master and, if truth be told, several of these singers sounded as if they had been recruited at some asylum talent show. It's Cohen doing a tribute to them by letting them sing his material, really, not the other way around: they may have been friends, or his daughter's, he could have become very tender-hearted and in the mood for a gift. Too bad it didn't stay in the family.<br /><br />Fortunately, but only at the very end, Cohen himself performed his majestic \"Tower of Song,\" but even that flower was spoiled by the totally incongruous background of the U2, all of them carrying the expression that bored kids have when they visit their poor grandpa at the nursing home.<br /><br />A sad show, really, and sadder if you truly love Cohen as I do.\n",
       "2                                                                                                                                                                                                                                                                                                                                                                                                                                                                                                                                                                                                                                                                                                                                                                                                                                                                                                                                                  Last night I decided to watch the prequel or shall I say the so called prequel to Carlito's Way - \"Carlito's Way: Rise to Power (2005)\" which went straight to DVD...no wonder .....it completely ...and I mean completely S%&KS !!! waist of time watching it and I think it would be a pure waist of time writing about it.... I don't understand how De Palma agreed on producing this sh#t-fest of a movie....except for only one fact that I tip my hat to... Jay Hernandez who plays the young Brigante.... reminded me how De Niro got into the shoes of Brando to portray the young Don Corleone in Godfather II ...but the difference De Niro was amazing and even got an Oscar for it !!! Jay Hernandez well he has guts for trying to be a young Pacino.... too bad for him I don't think he will be playing in film anymore and by the way after I watched this sh#$%ty movie, I sat down and watched the original Carlitos way to get the bad taste out of my mouth."
      ]
     },
     "execution_count": 14,
     "metadata": {},
     "output_type": "execute_result"
    }
   ],
   "source": [
    "#Mostrando as 3 primeiras linhas com todo o conteudo da linha, na coluna \"text\".\n",
    "pd.set_option(\"max_colwidth\", None)\n",
    "movies[[\"text\"]].head(3)"
   ]
  },
  {
   "cell_type": "markdown",
   "id": "51ba48a3",
   "metadata": {},
   "source": [
    "---"
   ]
  },
  {
   "cell_type": "markdown",
   "id": "d9a026c8",
   "metadata": {},
   "source": [
    "### Analisando essas linhas percebi que existem algumas tags em html no meio das reações dos filmes"
   ]
  },
  {
   "cell_type": "markdown",
   "id": "50350425",
   "metadata": {},
   "source": [
    "* **Iremos criar algumas funções para limpeza de dados, para posteriomente toketizar nosso textos**"
   ]
  },
  {
   "cell_type": "code",
   "execution_count": 15,
   "id": "5e0602c6",
   "metadata": {},
   "outputs": [],
   "source": [
    "# Função para remover tags html e caracteres especiais\n",
    "import re\n",
    "\n",
    "\n",
    "def remove_tags(text):\n",
    "    tags_html = re.compile('<.*?>')\n",
    "    return tags_html.sub(r'', text)\n",
    "\n",
    "movies['text'] =movies['text'].apply(remove_tags)\n"
   ]
  },
  {
   "cell_type": "code",
   "execution_count": 16,
   "id": "4d3c0349",
   "metadata": {},
   "outputs": [],
   "source": [
    "#Aproveitei Tambem para remover caracteres especiais, para deixar os textos mais clean\n",
    "#Função com uma regex para remover caracters especiais\n",
    "def remove_caracters(text):\n",
    "    return re.sub(r\"[^a-zA-Z0-9]\",\" \",text)\n",
    "\n",
    "movies['text'] = movies['text'].apply(remove_caracters)"
   ]
  },
  {
   "cell_type": "code",
   "execution_count": 17,
   "id": "ef63481c",
   "metadata": {},
   "outputs": [],
   "source": [
    "#Função para deixar todo os texto em minusculo\n",
    "def lower(text):\n",
    "    return text.lower()\n",
    "movies['text'] = movies['text'].apply(lower)"
   ]
  },
  {
   "cell_type": "markdown",
   "id": "3cf41483",
   "metadata": {},
   "source": [
    "---"
   ]
  },
  {
   "cell_type": "markdown",
   "id": "501d84fa",
   "metadata": {},
   "source": [
    "### Agora com nossos textos limpos, iremo toketizar nossos textos com a biblioteca Spacy."
   ]
  },
  {
   "cell_type": "code",
   "execution_count": 18,
   "id": "873ef7f1",
   "metadata": {},
   "outputs": [],
   "source": [
    "#Toketizando os textos com spacy\n",
    "import spacy\n",
    "nlp = spacy.load('en_core_web_sm')\n",
    "\n",
    "movies['text'] = movies['text'].apply(lambda x: nlp.tokenizer(x))"
   ]
  },
  {
   "cell_type": "code",
   "execution_count": 19,
   "id": "7ea5c812",
   "metadata": {},
   "outputs": [
    {
     "data": {
      "text/plain": [
       "0    (now,  , i, won, t, deny, that, when, i, purchased, this, off, ebay,  , i, had, high, expectations,  , this, was, an, incredible, out, of, print, work, from, the, master, of, comedy, that, i, so, enjoy,  , however,  , i, was, soon, to, be, disappointed,  , apologies, to, those, who, enjoyed, it,  , but, i, just, found, the, compleat, al, to, be, very, difficult, to, watch,  , i, got, a, few, smiles,  , sure,  , but, the, majority, of, the, funny, came, from, the, music, videos,  , which, i, ve, got, on, dvd,  , and, the, rest, was, basically, filler, ...)\n",
       "Name: text, dtype: object"
      ]
     },
     "execution_count": 19,
     "metadata": {},
     "output_type": "execute_result"
    }
   ],
   "source": [
    "#Mostrando como ficou nossos dados após a Toketização\n",
    "movies['text'].head(1)"
   ]
  },
  {
   "cell_type": "code",
   "execution_count": 22,
   "id": "baf6d2f3",
   "metadata": {},
   "outputs": [
    {
     "data": {
      "text/plain": [
       "0                                                                                                                                                                                                                                                   [ , won, t, deny, purchased, ebay,  , high, expectations,  , incredible, print, work, master, comedy, enjoy,  ,  , soon, disappointed,  , apologies, enjoyed,  , found, compleat, al, difficult, watch,  , got, smiles,  , sure,  , majority, funny, came, music, videos,  , ve, got, dvd,  , rest, basically, filler,  , tell, al, s, greatest, video, achievement,  , honor, goes, uhf,   , honestly,  , doubt, jump, dvd,  , ultra, hardcore, al, fan,  , buy, tape, ebay,  , don, t, pay]\n",
       "1        [saddest, thing,  , tribute,  , singers,  , including, incredibly, talented, nick, cave,  , missed, point, cohen, s, intensity, lies,  , delivering, lines, tuneless, poise,  , cohen, transmits, extent, poetry,  , irony,  , round, humanity,  , laughter, tears, singer, upstarts, convoluted, suffering, faces,  , launch, pathetic, squeals, patent, effort, scream,  , m, singer,    , true, pain,  , s, feeling, probably, listening, horrendous, operatic, versions, simple, songs, lennon, s,  , imagine,   ,  , simply, gets, close, simplicity, directness, original,  , form, art, doesn, t, need, embellishments,  , s, cohen, s, art,  , embellishments, cast, street, looking, like, tasteless, sex, sale, cohen, s, ...]\n",
       "2                                                      [night, decided, watch, prequel, shall, called, prequel, carlito, s, way,    , carlito, s, way,  , rise, power,  , 2005,   , went, straight, dvd,   , wonder,      , completely,    , mean, completely, s,  , ks,     , waist, time, watching, think, pure, waist, time, writing,     , don, t, understand, de, palma, agreed, producing, sh, t, fest, movie,    , fact, tip, hat,    , jay, hernandez, plays, young, brigante,     , reminded, de, niro, got, shoes, brando, portray, young, don, corleone, godfather, ii,    , difference, de, niro, amazing, got, oscar,     , jay, hernandez, guts, trying, young, pacino,     , bad, don, t, think, playing, film, anymore, way, ...]\n",
       "3                                                                        [admit, liked, half, sleepers,  , looked, good,  , acting, better,  , story, childhood,  , pain, revenge, interesting, moving,  , superior, hollywood, film,  ,   , mentioned, far,  , latest, 20, comments,   , came, courtroom, scenes, brat, pitt, s, character, followed, plan, rescue, friends,  , rightly, accused, murder,  , felt, cheated,  , movie, insulted, intelligence,  , warning, spoilers,  , accept, false, alibi,  , witnessed, priest,  , guys,  , shouldn, t, tell, investigation,  , amnesia,  , judge, member, jury,  , believe,  , wise, motif, murderers, away, sorry,  , end,  , story, weak,  , angers,  , movie, great, potential,  , 4, 10]\n",
       "4                                                                                                  [impressed, film, especially, fact, went, cinema, family, good, faith, film, certificate, rated, 12a, uk,  , dismay,  , film, embarrassing, sexual, jokes,   , problem, adult,  , good, watching, children,   , film, times, crude, times, fart, jokes,  , getting, hit, groin, etc,    , film, funny, premise, film, calvin, sims, 2inch, midget,  , gets, jail, steals, giant, sized, diamond, forced, womens, handbag,  , rest, movie, sees, passing, abandoned, baby,  , getting, womens, house, diamond,  , enjoyed, output, wayans, brothers,   , film, certainly, taking, biscuit, bit, good, advice,   , wait, till, comes, tv, cable]\n",
       "                                                                                                                                                                                                                                                                                                                                                                           ...                                                                                                                                                                                                                                                                                                                                                                   \n",
       "49872                                                                                                                                             [thing,  , produced, movie,  , feel, later, movies, international, casts, dubbed,  , opening, credits, tell, filmed, vienna, bey, delight, universal, adventure, movies, 1940s,  , superb, movie, saw, maybe, years, ago, heard,   , amazing, mr,  , x,   , maybe, dr,  , x,  , remember, thrilling, frightening, movie, pretty, wooden,  , unfortunately,  , plot, isn, t, easy, follow,  , got, hang,  , disappointed, francis, lederer, looks, great, concert, pianist,  , handsome, leading, man, 15, years, earlier,  , caught, major, star,  , isn, t, terrible, s, pretty, heavy, going]\n",
       "49873                                    [title, comes, alteration, adolescent, inmate, correctional, facility, makes, cover, school, book, government,  , titled,  , united, states,   , adds,  ,  ,    , characterizations, movie, work,    , scenes, leland,  , ryan, gosling,  , becky,  , jena, malone,   , pearl,  , don, cheadle,  , father, fitzgerald,  , spacey,  , leland,  , becky, sister, julie,  , michelle, williams,   , central, thread, movie,    , fulcrum, hangs,    , character, motives, leland,  , s, somewhat, shy,  , passive,  , nice, high, school, student, daringly, introduces, becky,  , find,  , going, alternative, school, past, history, drug, problems,  , becky, s, family,  , sister,  , julie,  , s, ...]\n",
       "49874                                                                                                                                                                                                                                                [christopher, nolan, s, film,  , budget,  , black, white, film, unemployed, writer, begins, following, strangers,  , turn, leads, robbery, violence,  , good, like, later, film,  , memento,  , doesn, t, present, story, linear, way,  , instead, jumps, somewhat, end, sucked, trying, piece, early,  , apparently, random,  , shots, significance, film, progresses,  , style, means, twists, effective, definitely, worth, seeing, chance,  , especially, like, later, work, film, noir]\n",
       "49875                                        [story, shortly, faith, lacking, business, man, priest,  , daniel, clemens,  , christian, slater,   , looking, closer, case, priest, suspected, murder,  , priest, denies, s, guilty, time, able, discuss, matter, confidentiality,  , enter, daniel, clemens, starts, playing, cop,   , plot, isn, t, ridiculous,  ,  , let, s, start, visual,  , cinematography, dull,  , looks, like, tv, series, movie,  , camera, angles, boring,  , fact,  , s, single, memorable, camera, angle, entire, movie,  , s, interesting, closeups, revealing, details,  , scene, transitions,  ,  , s,  , aren, t, smooth,  , connection, scenes, actual, plot,  , okay,  , use, transition, music, scenes,  , ...]\n",
       "49876                                                                                                                                                                                                                                                                                                                                                                                                                                                        [found, parts, movie, slow,  , especially,  , second, lot, faster,  , s, totally, clear, faster,  , managed, find, enjoyable,  , acting, good,  , writing, good,  , vulgar,   , good,  , easier, understand,  , godfather, movies,  , knew,  , etc,  ,  , movie, wasn, t, half, bad]\n",
       "Name: text, Length: 49877, dtype: object"
      ]
     },
     "execution_count": 22,
     "metadata": {},
     "output_type": "execute_result"
    }
   ],
   "source": [
    "#Criando uma função para encontrar e remover Stopwords\n",
    "from spacy.lang.en.stop_words import STOP_WORDS\n",
    "\n",
    "nlp= spacy.load('en_core_web_sm')\n",
    "all_stopwords = nlp.Defaults.stop_words\n",
    "movies['text']=movies['text'].apply(lambda x: [w for w in x if not w.text in all_stopwords])\n",
    "movies['text']"
   ]
  },
  {
   "cell_type": "code",
   "execution_count": null,
   "id": "e6795e18",
   "metadata": {},
   "outputs": [],
   "source": []
  },
  {
   "cell_type": "code",
   "execution_count": null,
   "id": "f12b418f",
   "metadata": {},
   "outputs": [],
   "source": []
  }
 ],
 "metadata": {
  "kernelspec": {
   "display_name": "Python 3 (ipykernel)",
   "language": "python",
   "name": "python3"
  },
  "language_info": {
   "codemirror_mode": {
    "name": "ipython",
    "version": 3
   },
   "file_extension": ".py",
   "mimetype": "text/x-python",
   "name": "python",
   "nbconvert_exporter": "python",
   "pygments_lexer": "ipython3",
   "version": "3.9.7"
  }
 },
 "nbformat": 4,
 "nbformat_minor": 5
}
